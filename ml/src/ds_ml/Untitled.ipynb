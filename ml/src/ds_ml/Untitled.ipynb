{
 "cells": [
  {
   "cell_type": "code",
   "execution_count": 7,
   "id": "362f2753-7355-4afe-b55a-e9b4ee5ac946",
   "metadata": {
    "execution": {
     "iopub.execute_input": "2023-12-10T07:50:33.518044Z",
     "iopub.status.busy": "2023-12-10T07:50:33.517342Z",
     "iopub.status.idle": "2023-12-10T07:50:33.555980Z",
     "shell.execute_reply": "2023-12-10T07:50:33.555142Z",
     "shell.execute_reply.started": "2023-12-10T07:50:33.517998Z"
    },
    "tags": []
   },
   "outputs": [],
   "source": [
    "from main import Predictor"
   ]
  },
  {
   "cell_type": "code",
   "execution_count": 8,
   "id": "2040a4e0-2516-4a06-901a-524c08de548f",
   "metadata": {
    "execution": {
     "iopub.execute_input": "2023-12-10T07:50:33.719192Z",
     "iopub.status.busy": "2023-12-10T07:50:33.718484Z",
     "iopub.status.idle": "2023-12-10T07:50:33.743921Z",
     "shell.execute_reply": "2023-12-10T07:50:33.743190Z",
     "shell.execute_reply.started": "2023-12-10T07:50:33.719151Z"
    },
    "tags": []
   },
   "outputs": [],
   "source": [
    "import joblib\n",
    "import pandas as pd"
   ]
  },
  {
   "cell_type": "code",
   "execution_count": 22,
   "id": "9b0ffc91-5727-42a0-a0ce-16ccfa6abe79",
   "metadata": {
    "execution": {
     "iopub.execute_input": "2023-12-10T07:51:46.885951Z",
     "iopub.status.busy": "2023-12-10T07:51:46.884919Z",
     "iopub.status.idle": "2023-12-10T07:51:46.897720Z",
     "shell.execute_reply": "2023-12-10T07:51:46.896869Z",
     "shell.execute_reply.started": "2023-12-10T07:51:46.885906Z"
    },
    "tags": []
   },
   "outputs": [],
   "source": [
    "class Getter:\n",
    "    def __init__(self, path):\n",
    "        self.df = pd.read_csv(path, sep=';')\n",
    "    def get_trades(self, tickers, date, time, seq_len):\n",
    "        return self.df[(self.df.secid.isin(tickers))&(self.df.tradedate<date)&(self.df.tradetime<time)].iloc[-seq_len*18:]"
   ]
  },
  {
   "cell_type": "code",
   "execution_count": 23,
   "id": "7aedef66-1d61-4e32-a5da-47f132956db4",
   "metadata": {
    "execution": {
     "iopub.execute_input": "2023-12-10T07:51:47.141570Z",
     "iopub.status.busy": "2023-12-10T07:51:47.140833Z",
     "iopub.status.idle": "2023-12-10T07:51:55.512363Z",
     "shell.execute_reply": "2023-12-10T07:51:55.511550Z",
     "shell.execute_reply.started": "2023-12-10T07:51:47.141529Z"
    },
    "tags": []
   },
   "outputs": [],
   "source": [
    "getter = Getter('../data/algopack/tradestats_2023.csv')"
   ]
  },
  {
   "cell_type": "code",
   "execution_count": 24,
   "id": "994b1a9b-3458-46b8-bdbf-3b483d28eee7",
   "metadata": {
    "execution": {
     "iopub.execute_input": "2023-12-10T07:51:55.514311Z",
     "iopub.status.busy": "2023-12-10T07:51:55.513535Z",
     "iopub.status.idle": "2023-12-10T07:51:55.848125Z",
     "shell.execute_reply": "2023-12-10T07:51:55.847269Z",
     "shell.execute_reply.started": "2023-12-10T07:51:55.514249Z"
    },
    "tags": []
   },
   "outputs": [],
   "source": [
    "predictor = Predictor(model='baseline_full.pth', vocab_sizes='catsizes.pkl', scalers='comps_full.pkl', all_shares='all_shares.csv', getter=getter, predict_len=8, bot_prev_len=2)"
   ]
  },
  {
   "cell_type": "code",
   "execution_count": 25,
   "id": "5284650d-03fd-49f6-a507-7b7eb54a037d",
   "metadata": {
    "execution": {
     "iopub.execute_input": "2023-12-10T07:51:55.850177Z",
     "iopub.status.busy": "2023-12-10T07:51:55.849484Z",
     "iopub.status.idle": "2023-12-10T07:51:56.402978Z",
     "shell.execute_reply": "2023-12-10T07:51:56.402289Z",
     "shell.execute_reply.started": "2023-12-10T07:51:55.850138Z"
    },
    "tags": []
   },
   "outputs": [
    {
     "name": "stderr",
     "output_type": "stream",
     "text": [
      "/home/jupyter/work/resources/tradebot/libs/preprocess.py:30: SettingWithCopyWarning: \n",
      "A value is trying to be set on a copy of a slice from a DataFrame.\n",
      "Try using .loc[row_indexer,col_indexer] = value instead\n",
      "\n",
      "See the caveats in the documentation: https://pandas.pydata.org/pandas-docs/stable/user_guide/indexing.html#returning-a-view-versus-a-copy\n",
      "  table[\"tradedatetime\"] = pd.to_datetime(table[\"tradedate\"] + table[\"tradetime\"], format=\"%Y-%m-%d%H:%M:%S\")\n",
      "/home/jupyter/work/resources/tradebot/libs/preprocess.py:93: FutureWarning: Not prepending group keys to the result index of transform-like apply. In the future, the group keys will be included in the index, regardless of whether the applied function returns a like-indexed object.\n",
      "To preserve the previous behavior, use\n",
      "\n",
      "\t>>> .groupby(..., group_keys=False)\n",
      "\n",
      "To adopt the future behavior and silence this warning, use \n",
      "\n",
      "\t>>> .groupby(..., group_keys=True)\n",
      "  stoch_data = grouped_data.apply(lambda group: pd.DataFrame(ta.STOCH(group['pr_high'],\n"
     ]
    },
    {
     "data": {
      "text/plain": [
       "{'SBER': [{'price': 269.98, 'profit': 0, 'decision': 'hold'},\n",
       "  {'price': 171.57131104618313, 'profit': 0, 'decision': 'hold'},\n",
       "  {'price': 148.17898625813424, 'profit': 0, 'decision': 'buy'},\n",
       "  {'price': 158.79302768409252, 'profit': 0, 'decision': 'hold'},\n",
       "  {'price': 163.97719313830137,\n",
       "   'profit': 15.798206880167129,\n",
       "   'decision': 'sell'},\n",
       "  {'price': 148.42748607926072, 'profit': 0, 'decision': 'buy'},\n",
       "  {'price': 160.58581299155952, 'profit': 0, 'decision': 'hold'},\n",
       "  {'price': 170.05979001432658,\n",
       "   'profit': 21.632303935065863,\n",
       "   'decision': 'sell'}],\n",
       " 'VTBR': [{'price': 0.0253849999999999, 'profit': 0, 'decision': 'hold'},\n",
       "  {'price': 0.01891312270343304, 'profit': 0, 'decision': 'hold'},\n",
       "  {'price': 0.01673290378171951, 'profit': 0, 'decision': 'buy'},\n",
       "  {'price': 0.017451789477020505, 'profit': 0, 'decision': 'hold'},\n",
       "  {'price': 0.01837713891088963,\n",
       "   'profit': 0.0016442351291701199,\n",
       "   'decision': 'sell'},\n",
       "  {'price': 0.016294835131503642, 'profit': 0, 'decision': 'buy'},\n",
       "  {'price': 0.017631902747750283, 'profit': 0, 'decision': 'hold'},\n",
       "  {'price': 0.018797723982185127,\n",
       "   'profit': 0.0025028888506814853,\n",
       "   'decision': 'sell'}]}"
      ]
     },
     "execution_count": 25,
     "metadata": {},
     "output_type": "execute_result"
    }
   ],
   "source": [
    "predictor.predict(tickers=['VTBR','SBER'], date='2023-10-30', time='18:00:00', seq_len=128)"
   ]
  }
 ],
 "metadata": {
  "kernelspec": {
   "display_name": "DataSphere Kernel",
   "language": "python",
   "name": "python3"
  },
  "language_info": {
   "codemirror_mode": {
    "name": "ipython",
    "version": 3
   },
   "file_extension": ".py",
   "mimetype": "text/x-python",
   "name": "python",
   "nbconvert_exporter": "python",
   "pygments_lexer": "ipython3",
   "version": "3.7.7"
  }
 },
 "nbformat": 4,
 "nbformat_minor": 5
}
